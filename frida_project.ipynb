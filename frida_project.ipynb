{
  "cells": [
    {
      "cell_type": "markdown",
      "metadata": {
        "id": "8z1WQjTNgaAE"
      },
      "source": [
        "# Frida Kahlo Exhibition\n",
        "\n",
        "You've been hired to work on a retrospective of Frida Kahlo's work at a major museum. Your job is to put together the audio tour, but in order to do that you need to create a list of each painting featured in the exhibit, the date it was painted, and its spot in the tour.\n",
        "\n",
        "Use your knowledge of Python lists to create a master list of each painting, its date, and its audio tour ID.\n"
      ]
    },
    {
      "cell_type": "markdown",
      "metadata": {
        "id": "Te7fjHNcgaAS"
      },
      "source": [
        "## Task 1\n",
        "First, create a list called `paintings` and add the following titles to it:\n",
        "\n",
        "`The Two Fridas, My Dress Hangs Here, Tree of Hope, Self Portrait With Monkeys`\n"
      ]
    },
    {
      "cell_type": "code",
      "execution_count": 16,
      "metadata": {
        "collapsed": true,
        "colab": {
          "base_uri": "https://localhost:8080/"
        },
        "id": "kZYxmMZIgaAX",
        "outputId": "9be4f0f8-5a5a-4c34-9377-4e3b60eeb119"
      },
      "outputs": [
        {
          "output_type": "stream",
          "name": "stdout",
          "text": [
            "['The Two Fridas', 'My Dress Hangs Here', 'Tree of Hope', 'Self Portrait With Monkeys']\n"
          ]
        }
      ],
      "source": [
        "paintings = ['The Two Fridas', 'My Dress Hangs Here', 'Tree of Hope', 'Self Portrait With Monkeys']\n",
        "print(paintings)"
      ]
    },
    {
      "cell_type": "markdown",
      "metadata": {
        "id": "RGvYdU24gaAb"
      },
      "source": [
        "## Task 2\n",
        "\n",
        "Next, create a second list called `dates` and give it the following values:\n",
        "`1939, 1933, 1946, 1940`"
      ]
    },
    {
      "cell_type": "code",
      "execution_count": 17,
      "metadata": {
        "collapsed": true,
        "colab": {
          "base_uri": "https://localhost:8080/"
        },
        "id": "qdu7fheEgaAe",
        "outputId": "99262517-fa58-45e5-c66a-5ab99a1b0a71"
      },
      "outputs": [
        {
          "output_type": "stream",
          "name": "stdout",
          "text": [
            "[1939, 1933, 1946, 1940]\n"
          ]
        }
      ],
      "source": [
        "dates = [1939, 1933, 1946, 1940]\n",
        "print(dates)"
      ]
    },
    {
      "cell_type": "markdown",
      "metadata": {
        "id": "rNPSGlAOgaAg"
      },
      "source": [
        "## Task 3\n",
        "It doesn't do much good to have the paintings without their dates, and vice versa.\n",
        "Zip together the two lists so that each painting is paired with its date and resave it to the `paintings` variable. Make sure to convert the zipped object into a list using the `list()` function. Print the results to the terminal to check your work."
      ]
    },
    {
      "cell_type": "code",
      "execution_count": 18,
      "metadata": {
        "collapsed": true,
        "colab": {
          "base_uri": "https://localhost:8080/"
        },
        "id": "36IwHgLHgaAj",
        "outputId": "9b51ec21-7bbe-4095-b4f5-8caaff457411"
      },
      "outputs": [
        {
          "output_type": "stream",
          "name": "stdout",
          "text": [
            "[('The Two Fridas', 1939), ('My Dress Hangs Here', 1933), ('Tree of Hope', 1946), ('Self Portrait With Monkeys', 1940)]\n"
          ]
        }
      ],
      "source": [
        "paintings = list(zip(paintings, dates))\n",
        "print(paintings)"
      ]
    },
    {
      "cell_type": "markdown",
      "metadata": {
        "id": "Jwi-wxSNgaAk"
      },
      "source": [
        "## Task 4\n",
        "There were some last minute additions to the show that we need to add to our list. Append the following paintings to our `paintings` list then re-print to check they were added correctly:\n",
        "- 'The Broken Column', 1944\n",
        "- 'The Wounded Deer', 1946\n",
        "- 'Me and My Doll', 1937\n",
        "\n",
        "Hint: Make sure to append each painting individually and that you're appending them as tuples, not lists."
      ]
    },
    {
      "cell_type": "code",
      "execution_count": 19,
      "metadata": {
        "collapsed": true,
        "colab": {
          "base_uri": "https://localhost:8080/"
        },
        "id": "USyc--QjgaAn",
        "outputId": "4246a4b7-90d7-433d-8a34-9f049bd414f4"
      },
      "outputs": [
        {
          "output_type": "stream",
          "name": "stdout",
          "text": [
            "[('The Two Fridas', 1939), ('My Dress Hangs Here', 1933), ('Tree of Hope', 1946), ('Self Portrait With Monkeys', 1940), ('The Broken Column', 1944), ('The Wounded Deer', 1946), ('Me and My Doll', 1937)]\n"
          ]
        }
      ],
      "source": [
        "paintings.append(('The Broken Column', 1944))\n",
        "paintings.append(('The Wounded Deer', 1946))\n",
        "paintings.append(('Me and My Doll', 1937))\n",
        "print(paintings)\n"
      ]
    },
    {
      "cell_type": "markdown",
      "metadata": {
        "id": "1H8-lzkegaAp"
      },
      "source": [
        "## Task 5\n",
        "Since each of these paintings is going to be in the audio tour, they each need a unique identification number.\n",
        "But before we assign them a number, we first need to check how many paintings there are in total.\n",
        "\n",
        "Find the length of the `paintings` list."
      ]
    },
    {
      "cell_type": "code",
      "execution_count": 20,
      "metadata": {
        "collapsed": true,
        "colab": {
          "base_uri": "https://localhost:8080/"
        },
        "id": "3RjKIhq7gaAs",
        "outputId": "6b419260-865f-42f7-9d51-08d3481bbd35"
      },
      "outputs": [
        {
          "output_type": "stream",
          "name": "stdout",
          "text": [
            "7\n"
          ]
        }
      ],
      "source": [
        "print(len(paintings))"
      ]
    },
    {
      "cell_type": "markdown",
      "metadata": {
        "id": "KF3h5RU-gaAt"
      },
      "source": [
        "## Task 6\n",
        "Use the `range` method to generate a list of identification numbers that starts at 1 and is equal in length to our list of items.\n",
        "Save the list to the variable `audio_tour_number` and check your work by printing the list."
      ]
    },
    {
      "cell_type": "code",
      "execution_count": 22,
      "metadata": {
        "collapsed": true,
        "colab": {
          "base_uri": "https://localhost:8080/"
        },
        "id": "CuwwIzBSgaAv",
        "outputId": "eadb9d4f-2c4d-45d1-c92d-da5c59030514"
      },
      "outputs": [
        {
          "output_type": "stream",
          "name": "stdout",
          "text": [
            "[1, 2, 3, 4, 5, 6, 7]\n"
          ]
        }
      ],
      "source": [
        "audio_tour_number = [i for i in range(1,len(paintings) + 1)]\n",
        "print(audio_tour_number)"
      ]
    },
    {
      "cell_type": "markdown",
      "metadata": {
        "id": "MLJDs1bXgaAx"
      },
      "source": [
        "## Task 7\n",
        "\n",
        "We're finally read to create our master list.\n",
        "Zip the `audio_tour_number` list to the `paintings` list and save it as `master_list`.\n",
        "\n",
        "Hint: Make sure to convert the zipped object into a list using the `list()` function."
      ]
    },
    {
      "cell_type": "code",
      "execution_count": 23,
      "metadata": {
        "collapsed": true,
        "id": "mDc57nQugaAz"
      },
      "outputs": [],
      "source": [
        "master_list = list(zip(audio_tour_number, paintings))"
      ]
    },
    {
      "cell_type": "markdown",
      "metadata": {
        "id": "Uqv_rlSugaA0"
      },
      "source": [
        "## Task 8\n",
        "Print the `master_list` to the terminal."
      ]
    },
    {
      "cell_type": "code",
      "execution_count": 24,
      "metadata": {
        "collapsed": true,
        "colab": {
          "base_uri": "https://localhost:8080/"
        },
        "id": "HeDskVR7gaA2",
        "outputId": "74336ba0-fd91-4b36-c351-4c64bb8cf8cb"
      },
      "outputs": [
        {
          "output_type": "stream",
          "name": "stdout",
          "text": [
            "[(1, ('The Two Fridas', 1939)), (2, ('My Dress Hangs Here', 1933)), (3, ('Tree of Hope', 1946)), (4, ('Self Portrait With Monkeys', 1940)), (5, ('The Broken Column', 1944)), (6, ('The Wounded Deer', 1946)), (7, ('Me and My Doll', 1937))]\n"
          ]
        }
      ],
      "source": [
        "print(master_list)"
      ]
    }
  ],
  "metadata": {
    "kernelspec": {
      "display_name": "Python 3",
      "language": "python",
      "name": "python3"
    },
    "language_info": {
      "codemirror_mode": {
        "name": "ipython",
        "version": 3
      },
      "file_extension": ".py",
      "mimetype": "text/x-python",
      "name": "python",
      "nbconvert_exporter": "python",
      "pygments_lexer": "ipython3",
      "version": "3.6.2"
    },
    "colab": {
      "provenance": []
    }
  },
  "nbformat": 4,
  "nbformat_minor": 0
}